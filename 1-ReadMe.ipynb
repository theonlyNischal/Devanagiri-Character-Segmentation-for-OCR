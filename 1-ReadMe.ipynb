{
 "cells": [
  {
   "cell_type": "markdown",
   "metadata": {},
   "source": [
    "References\n",
    "https://www.pyimagesearch.com/2017/02/20/text-skew-correction-opencv-python/\n",
    "\n",
    "\n",
    "In this project, we are going to develop a very simple OCR for Devanagari Characters. We have previously developed a [CNN based Neural Network model](github.com/theonlyNischal/Devanagari-Handwritten-Character-Classificantion) to classify Devanagari characters. We will use that model to predict character from words/sentences/paragraph.\n",
    "\n",
    "Our model has done perfect job of classifying Devanagari characters but the problem with such model is it expect a single image with a single character and they could give wrong output if image is not noise free. So a very versatile OCR should also focus intensively on character segmentation, noise removal and other image preprocessing technique.\n",
    "\n",
    "The OCR pipeline we are going to follow is:\n",
    "1. Image Acquisition\n",
    "2. Image Preprocessing\n",
    "3. CNN based Recognition of Devanagari Character\n",
    "\n",
    "\n",
    "\n",
    "1. **Image Acquisition**\n",
    "\n",
    "We can acquire images to be read via a simple digital camera or a scanner. After capturing the images via a camera we will store them in the project directory. Our CNN based model is limited to classify character without modifiers such as \n",
    "\n",
    "![Devanagari Modifiers](assets/devanagari_modifier.png)\n",
    "\n",
    "In the next step of this OCR Project, we really want to work on Devanagari Character with modifiers.\n",
    "\n",
    "2. **Image Preprocessing**\n",
    "\n",
    "Image we captured via digital camera are prone to noises. Further we are limiting ourselves to images of words. So a very good character segmentation algorithm is also needed. Some image preprocessing task we are going to use are **binarization**, **noise removal**, **skew detection**, **character segmentation**, **thinning or skeletonization**.\n",
    "\n",
    "The main objective of pre-processing is to organize  information so that the subsequent character recognition task becomes simpler."
   ]
  },
  {
   "cell_type": "markdown",
   "metadata": {},
   "source": [
    "**Binarization**\n",
    "Here we will compare each pixel along HxW against a threshold. If the pixel is greater than threshold its value is set to maximum value else its value is set to 0."
   ]
  },
  {
   "cell_type": "code",
   "execution_count": 28,
   "metadata": {},
   "outputs": [
    {
     "data": {
      "text/plain": [
       "<matplotlib.image.AxesImage at 0x7fab6f12d550>"
      ]
     },
     "execution_count": 28,
     "metadata": {},
     "output_type": "execute_result"
    },
    {
     "data": {
      "image/png": "[encoded data removed]",
      "text/plain": [
       "<Figure size 432x288 with 1 Axes>"
      ]
     },
     "metadata": {
      "needs_background": "light"
     },
     "output_type": "display_data"
    }
   ],
   "source": [
    "import cv2 as cv\n",
    "import numpy as np\n",
    "import matplotlib.pyplot as plt\n",
    "\n",
    "kamal = cv.imread(\"Devanagari_Images/charam.png\")\n",
    "kamal_gray = cv.cvtColor(kamal, cv.COLOR_BGR2GRAY)\n",
    "\n",
    "retval, thresholded_kamal = cv.threshold(kamal_gray, 85, 255, cv.THRESH_BINARY)\n",
    "plt.imshow(thresholded_kamal, cmap=\"gray\")"
   ]
  },
  {
   "cell_type": "code",
   "execution_count": 29,
   "metadata": {},
   "outputs": [
    {
     "data": {
      "text/plain": [
       "<matplotlib.image.AxesImage at 0x7fab6fce98e0>"
      ]
     },
     "execution_count": 29,
     "metadata": {},
     "output_type": "execute_result"
    },
    {
     "data": {
      "image/png": "[encoded data removed]",
      "text/plain": [
       "<Figure size 432x288 with 1 Axes>"
      ]
     },
     "metadata": {
      "needs_background": "light"
     },
     "output_type": "display_data"
    }
   ],
   "source": [
    "def binarization(img_path, threshold_value, maximum_value):\n",
    "    image = cv.imread(img_path)\n",
    "    image_gray = cv.cvtColor(image, cv.COLOR_BGR2GRAY)\n",
    "    retval, thresholded_image = cv.threshold(image_gray, \n",
    "                        threshold_value, maximum_value, cv.THRESH_BINARY)\n",
    "    \n",
    "    return thresholded_image\n",
    "\n",
    "img = \"Devanagari_Images/charam.png\"\n",
    "thresholded_image = binarization(img, 85, 255)\n",
    "plt.imshow(thresholded_image, cmap=\"gray\")"
   ]
  },
  {
   "cell_type": "markdown",
   "metadata": {},
   "source": [
    "**Noise Removal**\n",
    "When we acquire image from real world there is a very high chance that there will be noises in the image. Various noise removal filter can be applied to remove noises. Gaussian Blurring, Median Blurring are very common smoothing techniques. "
   ]
  },
  {
   "cell_type": "code",
   "execution_count": 30,
   "metadata": {},
   "outputs": [
    {
     "data": {
      "text/plain": [
       "<matplotlib.image.AxesImage at 0x7fab6ee60970>"
      ]
     },
     "execution_count": 30,
     "metadata": {},
     "output_type": "execute_result"
    },
    {
     "data": {
      "image/png": "[encoded data removed]",
      "text/plain": [
       "<Figure size 432x288 with 1 Axes>"
      ]
     },
     "metadata": {
      "needs_background": "light"
     },
     "output_type": "display_data"
    }
   ],
   "source": [
    "# 3x3 average filter\n",
    "mask = np.ones((3,3))/9\n",
    "\n",
    "filtered_image = cv.filter2D(thresholded_image, -1, mask)\n",
    "# -1 means output will have same type as input image\n",
    "plt.imshow(filtered_image, cmap=\"gray\")"
   ]
  },
  {
   "cell_type": "code",
   "execution_count": 31,
   "metadata": {},
   "outputs": [
    {
     "data": {
      "text/plain": [
       "<matplotlib.image.AxesImage at 0x7fab6f36d340>"
      ]
     },
     "execution_count": 31,
     "metadata": {},
     "output_type": "execute_result"
    },
    {
     "data": {
      "image/png": "[encoded data removed]",
      "text/plain": [
       "<Figure size 432x288 with 1 Axes>"
      ]
     },
     "metadata": {
      "needs_background": "light"
     },
     "output_type": "display_data"
    }
   ],
   "source": [
    "def noise_removal(thresholded_image):\n",
    "    mask = np.ones((3,3))/9\n",
    "    filtered_image = cv.filter2D(thresholded_image, -1, mask)\n",
    "    # -1 means output will have same type as input image\n",
    "    \n",
    "    return filtered_image\n",
    "\n",
    "filtered_image = noise_removal(thresholded_image)\n",
    "plt.imshow(filtered_image, cmap=\"gray\")"
   ]
  },
  {
   "cell_type": "markdown",
   "metadata": {},
   "source": [
    "**Skew Correction**\n",
    "\n",
    "Skew Correction process is very simple. First we need to have a binarized image with white text in a black bacground. Then we need to find (x, y) coordinates of all pixel values that are greater than 0, then use these coordinates to compute a rotated bounding box that contains all coordinates.\n",
    "\n",
    "The minAreaRect function returns values in the range[-90, 0) as the rectangle rotates clockwise the angle value increases towards zero. When zero is reached, the angle is set back to -90 degrees again and the process continues."
   ]
  },
  {
   "cell_type": "code",
   "execution_count": 32,
   "metadata": {},
   "outputs": [
    {
     "data": {
      "text/plain": [
       "<matplotlib.image.AxesImage at 0x7fab6f2fa520>"
      ]
     },
     "execution_count": 32,
     "metadata": {},
     "output_type": "execute_result"
    },
    {
     "data": {
      "image/png": "[encoded data removed]",
      "text/plain": [
       "<Figure size 432x288 with 1 Axes>"
      ]
     },
     "metadata": {
      "needs_background": "light"
     },
     "output_type": "display_data"
    }
   ],
   "source": [
    "inverse_image = cv.bitwise_not(filtered_image)\n",
    "plt.imshow(inverse_image, cmap=\"gray\")"
   ]
  },
  {
   "cell_type": "code",
   "execution_count": 33,
   "metadata": {},
   "outputs": [
    {
     "name": "stdout",
     "output_type": "stream",
     "text": [
      "[[ 66  66]\n",
      " [ 66  67]\n",
      " [ 66  68]\n",
      " ...\n",
      " [386 630]\n",
      " [386 631]\n",
      " [386 632]]\n",
      "-1.7671858072280884\n",
      "1.7671858072280884\n"
     ]
    }
   ],
   "source": [
    "## finding angle of rotating bounding box\n",
    "\n",
    "coords = np.column_stack(np.where(inverse_image > 0))\n",
    "print(coords)\n",
    "\n",
    "angle = cv.minAreaRect(coords)[-1]\n",
    "print(angle)\n",
    "\n",
    "if angle < -45:\n",
    "    angle = -(90 + angle)\n",
    "else:\n",
    "    angle = -angle\n",
    "    \n",
    "print(angle)"
   ]
  },
  {
   "cell_type": "code",
   "execution_count": 34,
   "metadata": {},
   "outputs": [
    {
     "data": {
      "text/plain": [
       "<matplotlib.image.AxesImage at 0x7fab6f74a460>"
      ]
     },
     "execution_count": 34,
     "metadata": {},
     "output_type": "execute_result"
    },
    {
     "data": {
      "image/png": "[encoded data removed]",
      "text/plain": [
       "<Figure size 432x288 with 1 Axes>"
      ]
     },
     "metadata": {
      "needs_background": "light"
     },
     "output_type": "display_data"
    }
   ],
   "source": [
    "(h, w) = inverse_image.shape[:2]\n",
    "center = (w//2, h//2)\n",
    "M = cv.getRotationMatrix2D(center, angle, 1.0)\n",
    "rotated = cv.warpAffine(inverse_image, M, (w, h), flags=cv.INTER_CUBIC,\n",
    "                       borderMode = cv.BORDER_REPLICATE)\n",
    "\n",
    "plt.imshow(rotated, cmap=\"gray\")"
   ]
  },
  {
   "cell_type": "code",
   "execution_count": 35,
   "metadata": {},
   "outputs": [],
   "source": [
    "def skew_correctness(filtered_image):\n",
    "    inverse_image = cv.bitwise_not(filtered_image)\n",
    "    coords = np.column_stack(np.where(inverse_image > 0))\n",
    "    angle = cv.minAreaRect(coords)[-1]\n",
    "    \n",
    "    if angle < -45:\n",
    "        angle = -(90 + angle)\n",
    "    else:\n",
    "        angle = -angle\n",
    "        \n",
    "    (h, w) = inverse_image.shape[:2]\n",
    "    center = (w//2, h//2)\n",
    "    M = cv.getRotationMatrix2D(center, angle, 1.0)\n",
    "    rotated = cv.warpAffine(inverse_image, M, (w, h), flags=cv.INTER_CUBIC,\n",
    "                       borderMode = cv.BORDER_REPLICATE)\n",
    "    \n",
    "    return rotated\n",
    "    "
   ]
  },
  {
   "cell_type": "code",
   "execution_count": 36,
   "metadata": {},
   "outputs": [
    {
     "data": {
      "text/plain": [
       "<matplotlib.image.AxesImage at 0x7fab6fcd9190>"
      ]
     },
     "execution_count": 36,
     "metadata": {},
     "output_type": "execute_result"
    },
    {
     "data": {
      "image/png": "[encoded data removed]",
      "text/plain": [
       "<Figure size 432x288 with 1 Axes>"
      ]
     },
     "metadata": {
      "needs_background": "light"
     },
     "output_type": "display_data"
    }
   ],
   "source": [
    "rotated_image = skew_correctness(filtered_image)\n",
    "plt.imshow(rotated_image, cmap=\"gray\")"
   ]
  },
  {
   "cell_type": "markdown",
   "metadata": {},
   "source": [
    "**Character Segmentation**\n",
    "Next we want to segment the given word into characters. This simple project expects input image to consist of words without modifiers like \"kamala\", we need to segment the word in \"ka\", \"ma\", \"la\".\n",
    "\n",
    "\n",
    "\n"
   ]
  },
  {
   "cell_type": "code",
   "execution_count": 37,
   "metadata": {},
   "outputs": [],
   "source": [
    "def white_pixel_sum_list(image_white_background):\n",
    "    \n",
    "    white_pixel_sum_array = list()\n",
    "\n",
    "    for col in range(image_white_background.shape[1]):\n",
    "        white_pixel_sum = 0\n",
    "\n",
    "        for row in range(image_white_background.shape[0]):\n",
    "            if image_white_background[row][col] == 1:\n",
    "                white_pixel_sum += 1\n",
    "        white_pixel_sum_array.append(white_pixel_sum)\n",
    "    return white_pixel_sum_array\n"
   ]
  },
  {
   "cell_type": "code",
   "execution_count": 38,
   "metadata": {},
   "outputs": [],
   "source": [
    "def find_boundries(rotated_image):\n",
    "    image_white_background = cv.bitwise_not(rotated_image)\n",
    "    image_white_background = image_white_background / 255\n",
    "    white_pixel_sum_array = white_pixel_sum_list(image_white_background)\n",
    "    \n",
    "    threshold = 680\n",
    "    characters_boundry = list()\n",
    "\n",
    "    wps_index = 0\n",
    "    while wps_index < len(white_pixel_sum_array):\n",
    "        if white_pixel_sum_array[wps_index] <= threshold:\n",
    "            char_bound_begin = wps_index\n",
    "\n",
    "            wps_index = char_bound_begin + 1\n",
    "            bound_end_found = False\n",
    "\n",
    "            while not bound_end_found:\n",
    "                if white_pixel_sum_array[wps_index] >= threshold:\n",
    "                    char_bound_end = wps_index + 1\n",
    "                    bound_end_found = True\n",
    "                wps_index = wps_index + 1\n",
    "            characters_boundry.append((char_bound_begin, char_bound_end))\n",
    "        else:\n",
    "            wps_index += 1\n",
    "            \n",
    "    return characters_boundry\n",
    "    \n",
    "    "
   ]
  },
  {
   "cell_type": "code",
   "execution_count": 39,
   "metadata": {},
   "outputs": [
    {
     "data": {
      "text/plain": [
       "<matplotlib.image.AxesImage at 0x7fab6fd436d0>"
      ]
     },
     "execution_count": 39,
     "metadata": {},
     "output_type": "execute_result"
    },
    {
     "data": {
      "image/png": "[encoded data removed]",
      "text/plain": [
       "<Figure size 432x288 with 1 Axes>"
      ]
     },
     "metadata": {
      "needs_background": "light"
     },
     "output_type": "display_data"
    }
   ],
   "source": [
    "image_white_background = cv.bitwise_not(rotated_image)\n",
    "image_white_background = image_white_background/ 255\n",
    "plt.imshow(image_white_background, cmap=\"gray\")"
   ]
  },
  {
   "cell_type": "code",
   "execution_count": 40,
   "metadata": {},
   "outputs": [],
   "source": [
    "# row_sums = list()\n",
    "# for row in range(image_white_background.shape[0]):\n",
    "#     black_pixel_row_sum = 0\n",
    "    \n",
    "#     for col in range(image_white_background.shape[1]):\n",
    "        \n",
    "#         if image_white_background[row][col] == 0:\n",
    "#             black_pixel_row_sum += 1\n",
    "#     row_sums.append(black_pixel_row_sum)\n",
    "\n",
    "\n",
    "# header_row_pos = np.argmax(np.array(row_sums))\n",
    "# print(header_row_pos)"
   ]
  },
  {
   "cell_type": "code",
   "execution_count": 41,
   "metadata": {},
   "outputs": [
    {
     "data": {
      "text/plain": [
       "[<matplotlib.lines.Line2D at 0x7fab6fccbd30>]"
      ]
     },
     "execution_count": 41,
     "metadata": {},
     "output_type": "execute_result"
    },
    {
     "data": {
      "image/png": "[encoded data removed]",
      "text/plain": [
       "<Figure size 432x288 with 1 Axes>"
      ]
     },
     "metadata": {
      "needs_background": "light"
     },
     "output_type": "display_data"
    }
   ],
   "source": [
    "white_pixel_sum_array = list()\n",
    "\n",
    "for col in range(image_white_background.shape[1]):\n",
    "    white_pixel_sum = 0\n",
    "    \n",
    "    for row in range(image_white_background.shape[0]):\n",
    "        if image_white_background[row][col] == 1:\n",
    "            white_pixel_sum += 1\n",
    "    white_pixel_sum_array.append(white_pixel_sum)\n",
    "\n",
    "plt.plot(white_pixel_sum_array)"
   ]
  },
  {
   "cell_type": "code",
   "execution_count": 42,
   "metadata": {},
   "outputs": [
    {
     "name": "stdout",
     "output_type": "stream",
     "text": [
      "419.0\n"
     ]
    }
   ],
   "source": [
    "print(np.percentile(white_pixel_sum_array, 80))"
   ]
  },
  {
   "cell_type": "code",
   "execution_count": 43,
   "metadata": {},
   "outputs": [
    {
     "name": "stdout",
     "output_type": "stream",
     "text": [
      "[(96, 424), (466, 646), (654, 845)]\n"
     ]
    }
   ],
   "source": [
    "threshold = np.percentile(white_pixel_sum_array, 75)\n",
    "characters_boundry = list()\n",
    "\n",
    "wps_index = 0\n",
    "while wps_index < len(white_pixel_sum_array):\n",
    "    if white_pixel_sum_array[wps_index] <= threshold:\n",
    "        char_bound_begin = wps_index\n",
    "    \n",
    "        wps_index = char_bound_begin + 1\n",
    "        bound_end_found = False\n",
    "    \n",
    "        while not bound_end_found:\n",
    "            if white_pixel_sum_array[wps_index] >= threshold:\n",
    "                char_bound_end = wps_index + 1\n",
    "                bound_end_found = True\n",
    "            wps_index = wps_index + 1\n",
    "        characters_boundry.append((char_bound_begin, char_bound_end))\n",
    "    else:\n",
    "        wps_index += 1\n",
    "\n",
    "char_bounds = list()\n",
    "for c_bound in characters_boundry:\n",
    "    \n",
    "    if c_bound[1] - c_bound[0] > 150:\n",
    "        char_bounds.append(c_bound)\n",
    "    \n",
    "print(char_bounds)\n"
   ]
  },
  {
   "cell_type": "code",
   "execution_count": 44,
   "metadata": {},
   "outputs": [
    {
     "data": {
      "text/plain": [
       "<matplotlib.image.AxesImage at 0x7fab6f625f70>"
      ]
     },
     "execution_count": 44,
     "metadata": {},
     "output_type": "execute_result"
    },
    {
     "data": {
      "image/png": "[encoded data removed]",
      "text/plain": [
       "<Figure size 432x288 with 1 Axes>"
      ]
     },
     "metadata": {
      "needs_background": "light"
     },
     "output_type": "display_data"
    }
   ],
   "source": [
    "plt.imshow(image_white_background[:, 96:424], cmap=\"gray\")"
   ]
  },
  {
   "cell_type": "code",
   "execution_count": 45,
   "metadata": {},
   "outputs": [
    {
     "data": {
      "text/plain": [
       "<matplotlib.image.AxesImage at 0x7fab6f86ca60>"
      ]
     },
     "execution_count": 45,
     "metadata": {},
     "output_type": "execute_result"
    },
    {
     "data": {
      "image/png": "[encoded data removed]",
      "text/plain": [
       "<Figure size 432x288 with 1 Axes>"
      ]
     },
     "metadata": {
      "needs_background": "light"
     },
     "output_type": "display_data"
    }
   ],
   "source": [
    "plt.imshow(image_white_background[:, 466:646], cmap=\"gray\")"
   ]
  },
  {
   "cell_type": "code",
   "execution_count": 46,
   "metadata": {},
   "outputs": [
    {
     "data": {
      "text/plain": [
       "<matplotlib.image.AxesImage at 0x7fab6f126e20>"
      ]
     },
     "execution_count": 46,
     "metadata": {},
     "output_type": "execute_result"
    },
    {
     "data": {
      "image/png": "[encoded data removed]",
      "text/plain": [
       "<Figure size 432x288 with 1 Axes>"
      ]
     },
     "metadata": {
      "needs_background": "light"
     },
     "output_type": "display_data"
    }
   ],
   "source": [
    "plt.imshow(image_white_background[:, 654:845], cmap=\"gray\")"
   ]
  },
  {
   "cell_type": "code",
   "execution_count": 47,
   "metadata": {},
   "outputs": [],
   "source": [
    "def white_pixel_sum_list(image_white_background):\n",
    "    \n",
    "    white_pixel_sum_array = list()\n",
    "\n",
    "    for col in range(image_white_background.shape[1]):\n",
    "        white_pixel_sum = 0\n",
    "\n",
    "        for row in range(image_white_background.shape[0]):\n",
    "            if image_white_background[row][col] == 1:\n",
    "                white_pixel_sum += 1\n",
    "        white_pixel_sum_array.append(white_pixel_sum)\n",
    "    return white_pixel_sum_array"
   ]
  },
  {
   "cell_type": "code",
   "execution_count": 48,
   "metadata": {},
   "outputs": [],
   "source": [
    "def find_boundries(rotated_image):\n",
    "    image_white_background = cv.bitwise_not(rotated_image)\n",
    "    image_white_background = image_white_background / 255\n",
    "    white_pixel_sum_array = white_pixel_sum_list(image_white_background)\n",
    "    \n",
    "    threshold = np.percentile(white_pixel_sum_array, 75)\n",
    "    characters_boundry = list()\n",
    "\n",
    "    wps_index = 0\n",
    "    while wps_index < len(white_pixel_sum_array):\n",
    "        if white_pixel_sum_array[wps_index] <= threshold:\n",
    "            char_bound_begin = wps_index\n",
    "\n",
    "            wps_index = char_bound_begin + 1\n",
    "            bound_end_found = False\n",
    "\n",
    "            while not bound_end_found:\n",
    "                if white_pixel_sum_array[wps_index] >= threshold:\n",
    "                    char_bound_end = wps_index + 1\n",
    "                    bound_end_found = True\n",
    "                wps_index = wps_index + 1\n",
    "            characters_boundry.append((char_bound_begin, char_bound_end))\n",
    "        else:\n",
    "            wps_index += 1\n",
    "    \n",
    "    char_bounds = list()\n",
    "    for c_bound in characters_boundry:\n",
    "\n",
    "        if c_bound[1] - c_bound[0] > 150:\n",
    "            char_bounds.append(c_bound)\n",
    "            \n",
    "    return char_bounds\n",
    "    \n",
    "    "
   ]
  },
  {
   "cell_type": "code",
   "execution_count": 26,
   "metadata": {},
   "outputs": [
    {
     "data": {
      "text/plain": [
       "[(56, 240), (288, 513), (650, 889)]"
      ]
     },
     "execution_count": 26,
     "metadata": {},
     "output_type": "execute_result"
    }
   ],
   "source": [
    "boundres = find_boundries(rotated_image)\n",
    "boundres"
   ]
  },
  {
   "cell_type": "code",
   "execution_count": null,
   "metadata": {},
   "outputs": [],
   "source": []
  }
 ],
 "metadata": {
  "kernelspec": {
   "display_name": "Python 3",
   "language": "python",
   "name": "python3"
  },
  "language_info": {
   "codemirror_mode": {
    "name": "ipython",
    "version": 3
   },
   "file_extension": ".py",
   "mimetype": "text/x-python",
   "name": "python",
   "nbconvert_exporter": "python",
   "pygments_lexer": "ipython3",
   "version": "3.8.2"
  }
 },
 "nbformat": 4,
 "nbformat_minor": 4
}
